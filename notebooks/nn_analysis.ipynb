{
 "cells": [
  {
   "cell_type": "code",
   "execution_count": 1,
   "metadata": {
    "collapsed": true
   },
   "outputs": [],
   "source": [
    "import pandas as pd"
   ]
  },
  {
   "cell_type": "code",
   "execution_count": 2,
   "outputs": [
    {
     "data": {
      "text/plain": "   index              id   cell_id cell_type  \\\n0      0  00001756c60be8  1862f0a6      code   \n1      1  00001756c60be8  448eb224  markdown   \n2      2  00001756c60be8  2a9e43d6      code   \n3      3  00001756c60be8  7e2f170a  markdown   \n4      4  00001756c60be8  038b763d      code   \n\n                                              source  rank  pct_rank  \\\n0  # This Python 3 environment comes with many he...     0  0.000000   \n1  **Импортируем необходимые для работы функции и...     1  0.017241   \n2  import numpy as np\\nimport pandas as pd\\nimpor...     2  0.034483   \n3                      **Подключаем предупреждения**     3  0.051724   \n4  import warnings\\nwarnings.filterwarnings('igno...     4  0.068966   \n\n  ancestor_id parent_id  \n0    945aea18      None  \n1    945aea18      None  \n2    945aea18      None  \n3    945aea18      None  \n4    945aea18      None  ",
      "text/html": "<div>\n<style scoped>\n    .dataframe tbody tr th:only-of-type {\n        vertical-align: middle;\n    }\n\n    .dataframe tbody tr th {\n        vertical-align: top;\n    }\n\n    .dataframe thead th {\n        text-align: right;\n    }\n</style>\n<table border=\"1\" class=\"dataframe\">\n  <thead>\n    <tr style=\"text-align: right;\">\n      <th></th>\n      <th>index</th>\n      <th>id</th>\n      <th>cell_id</th>\n      <th>cell_type</th>\n      <th>source</th>\n      <th>rank</th>\n      <th>pct_rank</th>\n      <th>ancestor_id</th>\n      <th>parent_id</th>\n    </tr>\n  </thead>\n  <tbody>\n    <tr>\n      <th>0</th>\n      <td>0</td>\n      <td>00001756c60be8</td>\n      <td>1862f0a6</td>\n      <td>code</td>\n      <td># This Python 3 environment comes with many he...</td>\n      <td>0</td>\n      <td>0.000000</td>\n      <td>945aea18</td>\n      <td>None</td>\n    </tr>\n    <tr>\n      <th>1</th>\n      <td>1</td>\n      <td>00001756c60be8</td>\n      <td>448eb224</td>\n      <td>markdown</td>\n      <td>**Импортируем необходимые для работы функции и...</td>\n      <td>1</td>\n      <td>0.017241</td>\n      <td>945aea18</td>\n      <td>None</td>\n    </tr>\n    <tr>\n      <th>2</th>\n      <td>2</td>\n      <td>00001756c60be8</td>\n      <td>2a9e43d6</td>\n      <td>code</td>\n      <td>import numpy as np\\nimport pandas as pd\\nimpor...</td>\n      <td>2</td>\n      <td>0.034483</td>\n      <td>945aea18</td>\n      <td>None</td>\n    </tr>\n    <tr>\n      <th>3</th>\n      <td>3</td>\n      <td>00001756c60be8</td>\n      <td>7e2f170a</td>\n      <td>markdown</td>\n      <td>**Подключаем предупреждения**</td>\n      <td>3</td>\n      <td>0.051724</td>\n      <td>945aea18</td>\n      <td>None</td>\n    </tr>\n    <tr>\n      <th>4</th>\n      <td>4</td>\n      <td>00001756c60be8</td>\n      <td>038b763d</td>\n      <td>code</td>\n      <td>import warnings\\nwarnings.filterwarnings('igno...</td>\n      <td>4</td>\n      <td>0.068966</td>\n      <td>945aea18</td>\n      <td>None</td>\n    </tr>\n  </tbody>\n</table>\n</div>"
     },
     "execution_count": 2,
     "metadata": {},
     "output_type": "execute_result"
    }
   ],
   "source": [
    "df = pd.read_feather('../data/train_dataset.fth')\n",
    "df.head()"
   ],
   "metadata": {
    "collapsed": false,
    "pycharm": {
     "name": "#%%\n"
    }
   }
  },
  {
   "cell_type": "code",
   "execution_count": 9,
   "outputs": [],
   "source": [
    "set_of_words = ['train', 'test', 'training', 'testing']\n",
    "\n",
    "df['is_train_test'] = df.source.apply(lambda a: any(s in a for s in set_of_words))"
   ],
   "metadata": {
    "collapsed": false,
    "pycharm": {
     "name": "#%%\n"
    }
   }
  },
  {
   "cell_type": "code",
   "execution_count": 10,
   "outputs": [
    {
     "data": {
      "text/plain": "0.2622558214661433"
     },
     "execution_count": 10,
     "metadata": {},
     "output_type": "execute_result"
    }
   ],
   "source": [
    "df.is_train_test.sum() / df.is_train_test.size"
   ],
   "metadata": {
    "collapsed": false,
    "pycharm": {
     "name": "#%%\n"
    }
   }
  },
  {
   "cell_type": "code",
   "execution_count": 12,
   "outputs": [
    {
     "data": {
      "text/plain": "0.09490255135582328"
     },
     "execution_count": 12,
     "metadata": {},
     "output_type": "execute_result"
    }
   ],
   "source": [
    "(df.groupby('cell_type').get_group('markdown').is_train_test.sum()\n",
    " / df.groupby('cell_type').get_group('markdown').is_train_test.size)\n"
   ],
   "metadata": {
    "collapsed": false,
    "pycharm": {
     "name": "#%%\n"
    }
   }
  },
  {
   "cell_type": "code",
   "execution_count": 16,
   "outputs": [],
   "source": [
    "grouped = df.groupby('cell_type').get_group('markdown').groupby('id')"
   ],
   "metadata": {
    "collapsed": false,
    "pycharm": {
     "name": "#%%\n"
    }
   }
  },
  {
   "cell_type": "code",
   "execution_count": 18,
   "outputs": [
    {
     "data": {
      "text/plain": "id\n00001756c60be8    0.0\n00015c83e2717b    0.0\n0001bdd4021779    0.0\n0001daf4c2c76d    0.0\n0002115f48f982    0.0\nName: is_train_test, dtype: float64"
     },
     "execution_count": 18,
     "metadata": {},
     "output_type": "execute_result"
    }
   ],
   "source": [
    "ratio_by_groups = grouped.is_train_test.apply(lambda x: x.sum() / len(x))\n",
    "ratio_by_groups.head()"
   ],
   "metadata": {
    "collapsed": false,
    "pycharm": {
     "name": "#%%\n"
    }
   }
  },
  {
   "cell_type": "code",
   "execution_count": 20,
   "outputs": [
    {
     "data": {
      "text/plain": "'001b382f2f0177'"
     },
     "execution_count": 20,
     "metadata": {},
     "output_type": "execute_result"
    }
   ],
   "source": [
    "ratio_by_groups.idxmax()\n",
    "grouped.get_group('001b382f2f0177')"
   ],
   "metadata": {
    "collapsed": false,
    "pycharm": {
     "name": "#%%\n"
    }
   }
  },
  {
   "cell_type": "code",
   "execution_count": 86,
   "outputs": [],
   "source": [
    "grouped_full = df.groupby('id')"
   ],
   "metadata": {
    "collapsed": false,
    "pycharm": {
     "name": "#%%\n"
    }
   }
  },
  {
   "cell_type": "code",
   "execution_count": 87,
   "outputs": [
    {
     "name": "stderr",
     "output_type": "stream",
     "text": [
      "100%|██████████| 139256/139256 [08:06<00:00, 286.17it/s]\n"
     ]
    },
    {
     "data": {
      "text/plain": "id\n00001756c60be8    0.0\n00015c83e2717b    0.0\n0001bdd4021779    0.0\n0001daf4c2c76d    0.0\n0002115f48f982    0.0\ndtype: float64"
     },
     "execution_count": 87,
     "metadata": {},
     "output_type": "execute_result"
    }
   ],
   "source": [
    "from tqdm import tqdm\n",
    "err = 0\n",
    "def get_from_pairs(g):\n",
    "    res = 0\n",
    "    global err\n",
    "    for _, md in g.groupby('cell_type').get_group('markdown').iterrows():\n",
    "        nxt = g[g['rank'] == (md['rank']+1)]\n",
    "\n",
    "        condition = (\n",
    "                md['is_train_test'] == True\n",
    "                and nxt.size\n",
    "                and (nxt.cell_type.iloc[0] == 'code')\n",
    "                and (nxt.is_train_test.iloc[0] == True)\n",
    "        )\n",
    "        if condition:\n",
    "           res += 1\n",
    "    return res / g.cell_id.size\n",
    "\n",
    "tqdm.pandas()\n",
    "\n",
    "r = grouped_full.progress_apply(lambda x: get_from_pairs(x))\n",
    "r.head()\n"
   ],
   "metadata": {
    "collapsed": false,
    "pycharm": {
     "name": "#%%\n"
    }
   }
  },
  {
   "cell_type": "code",
   "execution_count": 89,
   "outputs": [
    {
     "data": {
      "text/plain": "(0.0, 0.016840060853685116, 0.5, 139256)"
     },
     "execution_count": 89,
     "metadata": {},
     "output_type": "execute_result"
    }
   ],
   "source": [
    "r.min(), r.mean(), r.max(), r.size"
   ],
   "metadata": {
    "collapsed": false,
    "pycharm": {
     "name": "#%%\n"
    }
   }
  },
  {
   "cell_type": "code",
   "execution_count": 91,
   "outputs": [
    {
     "data": {
      "text/plain": "0.055975164440643876"
     },
     "execution_count": 91,
     "metadata": {},
     "output_type": "execute_result"
    }
   ],
   "source": [
    "r[r > 0].mean()"
   ],
   "metadata": {
    "collapsed": false,
    "pycharm": {
     "name": "#%%\n"
    }
   }
  },
  {
   "cell_type": "code",
   "execution_count": null,
   "outputs": [],
   "source": [],
   "metadata": {
    "collapsed": false,
    "pycharm": {
     "name": "#%%\n"
    }
   }
  }
 ],
 "metadata": {
  "kernelspec": {
   "display_name": "Python 3",
   "language": "python",
   "name": "python3"
  },
  "language_info": {
   "codemirror_mode": {
    "name": "ipython",
    "version": 2
   },
   "file_extension": ".py",
   "mimetype": "text/x-python",
   "name": "python",
   "nbconvert_exporter": "python",
   "pygments_lexer": "ipython2",
   "version": "2.7.6"
  }
 },
 "nbformat": 4,
 "nbformat_minor": 0
}