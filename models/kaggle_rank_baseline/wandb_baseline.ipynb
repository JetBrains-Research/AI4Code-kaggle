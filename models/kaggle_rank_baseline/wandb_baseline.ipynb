{
 "cells": [
  {
   "cell_type": "code",
   "execution_count": 4,
   "outputs": [
    {
     "name": "stdout",
     "output_type": "stream",
     "text": [
      "The autoreload extension is already loaded. To reload it, use:\n",
      "  %reload_ext autoreload\n"
     ]
    }
   ],
   "source": [
    "%load_ext autoreload\n",
    "%autoreload 2\n",
    "\n",
    "train = '../../data/train_dataset.fth'\n",
    "test = '../../data/test_dataset.fth'\n",
    "\n",
    "from rank_model import MarkdownModelPl\n",
    "from rank_datamodule import MarkdownDataModule\n",
    "from pytorch_lightning.loggers import WandbLogger\n",
    "import pytorch_lightning as pl\n"
   ],
   "metadata": {
    "collapsed": false,
    "pycharm": {
     "name": "#%%\n"
    }
   }
  },
  {
   "cell_type": "code",
   "execution_count": null,
   "outputs": [],
   "source": [
    "MDM = MarkdownDataModule(train_path=train, test_path=test, resample=True, sample_size=100)\n",
    "model = MarkdownModelPl()\n",
    "wandb_logger = WandbLogger(project=\"JupyterKaggleBaseline\")\n",
    "\n",
    "trainer = pl.Trainer(\n",
    "    gpus = 1,\n",
    "    max_epochs=20,\n",
    "    logger=wandb_logger,\n",
    "    enable_progress_bar=False,\n",
    "    log_every_n_steps=20,\n",
    "    accumulate_grad_batches=4,\n",
    ")\n",
    "trainer.fit(model, MDM)"
   ],
   "metadata": {
    "collapsed": false,
    "pycharm": {
     "name": "#%%\n"
    }
   }
  }
 ],
 "metadata": {
  "kernelspec": {
   "display_name": "Python 3",
   "language": "python",
   "name": "python3"
  },
  "language_info": {
   "codemirror_mode": {
    "name": "ipython",
    "version": 2
   },
   "file_extension": ".py",
   "mimetype": "text/x-python",
   "name": "python",
   "nbconvert_exporter": "python",
   "pygments_lexer": "ipython2",
   "version": "2.7.6"
  }
 },
 "nbformat": 4,
 "nbformat_minor": 0
}