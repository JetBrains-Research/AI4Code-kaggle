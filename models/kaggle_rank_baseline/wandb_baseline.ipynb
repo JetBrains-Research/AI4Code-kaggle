{
 "cells": [
  {
   "cell_type": "code",
   "execution_count": 18,
   "outputs": [
    {
     "name": "stdout",
     "output_type": "stream",
     "text": [
      "The autoreload extension is already loaded. To reload it, use:\n",
      "  %reload_ext autoreload\n"
     ]
    }
   ],
   "source": [
    "%load_ext autoreload\n",
    "%autoreload 2\n",
    "\n",
    "train = '../../data/train_dataset.fth'\n",
    "test = '../../data/test_dataset.fth'"
   ],
   "metadata": {
    "collapsed": false,
    "pycharm": {
     "name": "#%%\n"
    }
   }
  },
  {
   "cell_type": "code",
   "execution_count": 19,
   "outputs": [],
   "source": [
    "from rank_model import MarkdownModelPl\n",
    "from rank_datamodule import MarkdownDataModule\n",
    "from pytorch_lightning.loggers import WandbLogger\n",
    "import pytorch_lightning as pl\n",
    "\n",
    "MDM = MarkdownDataModule(train_path=train, test_path=test, resample=True, sample_size=1000)"
   ],
   "metadata": {
    "collapsed": false,
    "pycharm": {
     "name": "#%%\n"
    }
   }
  },
  {
   "cell_type": "code",
   "execution_count": 20,
   "outputs": [
    {
     "name": "stdout",
     "output_type": "stream",
     "text": [
      "preparing train data\n"
     ]
    },
    {
     "data": {
      "text/plain": "  0%|          | 0/18 [00:00<?, ?ba/s]",
      "application/vnd.jupyter.widget-view+json": {
       "version_major": 2,
       "version_minor": 0,
       "model_id": "837d0636e723451e9ceffc6e9d35c880"
      }
     },
     "metadata": {},
     "output_type": "display_data"
    },
    {
     "name": "stdout",
     "output_type": "stream",
     "text": [
      "preparing validation data\n"
     ]
    },
    {
     "data": {
      "text/plain": "  0%|          | 0/2 [00:00<?, ?ba/s]",
      "application/vnd.jupyter.widget-view+json": {
       "version_major": 2,
       "version_minor": 0,
       "model_id": "b21bc10ca0204cf9829a1caef59ef819"
      }
     },
     "metadata": {},
     "output_type": "display_data"
    },
    {
     "name": "stdout",
     "output_type": "stream",
     "text": [
      "preparing test data\n"
     ]
    },
    {
     "data": {
      "text/plain": "  0%|          | 0/1 [00:00<?, ?ba/s]",
      "application/vnd.jupyter.widget-view+json": {
       "version_major": 2,
       "version_minor": 0,
       "model_id": "b9f9006b4f8f4eb2baaba52fcc73729f"
      }
     },
     "metadata": {},
     "output_type": "display_data"
    }
   ],
   "source": [
    "MDM.prepare_data()"
   ],
   "metadata": {
    "collapsed": false,
    "pycharm": {
     "name": "#%%\n"
    }
   }
  },
  {
   "cell_type": "markdown",
   "source": [
    "|# Trainin"
   ],
   "metadata": {
    "collapsed": false,
    "pycharm": {
     "name": "#%% md\n"
    }
   }
  },
  {
   "cell_type": "code",
   "execution_count": 21,
   "outputs": [
    {
     "ename": "TypeError",
     "evalue": "Caught TypeError in DataLoader worker process 0.\nOriginal Traceback (most recent call last):\n  File \"/Users/sergey.titov/Library/Caches/pypoetry/virtualenvs/ai4code-kaggle-K0JRhKDo-py3.9/lib/python3.9/site-packages/torch/utils/data/_utils/worker.py\", line 302, in _worker_loop\n    data = fetcher.fetch(index)\n  File \"/Users/sergey.titov/Library/Caches/pypoetry/virtualenvs/ai4code-kaggle-K0JRhKDo-py3.9/lib/python3.9/site-packages/torch/utils/data/_utils/fetch.py\", line 49, in fetch\n    data = [self.dataset[idx] for idx in possibly_batched_index]\n  File \"/Users/sergey.titov/Library/Caches/pypoetry/virtualenvs/ai4code-kaggle-K0JRhKDo-py3.9/lib/python3.9/site-packages/torch/utils/data/_utils/fetch.py\", line 49, in <listcomp>\n    data = [self.dataset[idx] for idx in possibly_batched_index]\n  File \"/Users/sergey.titov/Library/Caches/pypoetry/virtualenvs/ai4code-kaggle-K0JRhKDo-py3.9/lib/python3.9/site-packages/datasets/arrow_dataset.py\", line 2154, in __getitem__\n    return self._getitem(\n  File \"/Users/sergey.titov/Library/Caches/pypoetry/virtualenvs/ai4code-kaggle-K0JRhKDo-py3.9/lib/python3.9/site-packages/datasets/arrow_dataset.py\", line 2139, in _getitem\n    formatted_output = format_table(\n  File \"/Users/sergey.titov/Library/Caches/pypoetry/virtualenvs/ai4code-kaggle-K0JRhKDo-py3.9/lib/python3.9/site-packages/datasets/formatting/formatting.py\", line 540, in format_table\n    formatted_output = formatter(pa_table_to_format, query_type=query_type)\n  File \"/Users/sergey.titov/Library/Caches/pypoetry/virtualenvs/ai4code-kaggle-K0JRhKDo-py3.9/lib/python3.9/site-packages/datasets/formatting/formatting.py\", line 281, in __call__\n    return self.format_row(pa_table)\n  File \"/Users/sergey.titov/Library/Caches/pypoetry/virtualenvs/ai4code-kaggle-K0JRhKDo-py3.9/lib/python3.9/site-packages/datasets/formatting/torch_formatter.py\", line 58, in format_row\n    return self.recursive_tensorize(row)\n  File \"/Users/sergey.titov/Library/Caches/pypoetry/virtualenvs/ai4code-kaggle-K0JRhKDo-py3.9/lib/python3.9/site-packages/datasets/formatting/torch_formatter.py\", line 54, in recursive_tensorize\n    return map_nested(self._recursive_tensorize, data_struct, map_list=False)\n  File \"/Users/sergey.titov/Library/Caches/pypoetry/virtualenvs/ai4code-kaggle-K0JRhKDo-py3.9/lib/python3.9/site-packages/datasets/utils/py_utils.py\", line 356, in map_nested\n    mapped = [\n  File \"/Users/sergey.titov/Library/Caches/pypoetry/virtualenvs/ai4code-kaggle-K0JRhKDo-py3.9/lib/python3.9/site-packages/datasets/utils/py_utils.py\", line 357, in <listcomp>\n    _single_map_nested((function, obj, types, None, True, None))\n  File \"/Users/sergey.titov/Library/Caches/pypoetry/virtualenvs/ai4code-kaggle-K0JRhKDo-py3.9/lib/python3.9/site-packages/datasets/utils/py_utils.py\", line 293, in _single_map_nested\n    return function(data_struct)\n  File \"/Users/sergey.titov/Library/Caches/pypoetry/virtualenvs/ai4code-kaggle-K0JRhKDo-py3.9/lib/python3.9/site-packages/datasets/formatting/torch_formatter.py\", line 51, in _recursive_tensorize\n    return self._tensorize(data_struct)\n  File \"/Users/sergey.titov/Library/Caches/pypoetry/virtualenvs/ai4code-kaggle-K0JRhKDo-py3.9/lib/python3.9/site-packages/datasets/formatting/torch_formatter.py\", line 43, in _tensorize\n    return torch.tensor(value, **{**default_dtype, **self.torch_tensor_kwargs})\nTypeError: new(): invalid data type 'numpy.str_'\n",
     "output_type": "error",
     "traceback": [
      "\u001B[0;31m---------------------------------------------------------------------------\u001B[0m",
      "\u001B[0;31mTypeError\u001B[0m                                 Traceback (most recent call last)",
      "Input \u001B[0;32mIn [21]\u001B[0m, in \u001B[0;36m<cell line: 1>\u001B[0;34m()\u001B[0m\n\u001B[0;32m----> 1\u001B[0m x \u001B[38;5;241m=\u001B[39m [batch \u001B[38;5;28;01mfor\u001B[39;00m batch \u001B[38;5;129;01min\u001B[39;00m MDM\u001B[38;5;241m.\u001B[39mtrain_dataloader()]\n",
      "Input \u001B[0;32mIn [21]\u001B[0m, in \u001B[0;36m<listcomp>\u001B[0;34m(.0)\u001B[0m\n\u001B[0;32m----> 1\u001B[0m x \u001B[38;5;241m=\u001B[39m [batch \u001B[38;5;28;01mfor\u001B[39;00m batch \u001B[38;5;129;01min\u001B[39;00m MDM\u001B[38;5;241m.\u001B[39mtrain_dataloader()]\n",
      "File \u001B[0;32m~/Library/Caches/pypoetry/virtualenvs/ai4code-kaggle-K0JRhKDo-py3.9/lib/python3.9/site-packages/torch/utils/data/dataloader.py:652\u001B[0m, in \u001B[0;36m_BaseDataLoaderIter.__next__\u001B[0;34m(self)\u001B[0m\n\u001B[1;32m    649\u001B[0m \u001B[38;5;28;01mif\u001B[39;00m \u001B[38;5;28mself\u001B[39m\u001B[38;5;241m.\u001B[39m_sampler_iter \u001B[38;5;129;01mis\u001B[39;00m \u001B[38;5;28;01mNone\u001B[39;00m:\n\u001B[1;32m    650\u001B[0m     \u001B[38;5;66;03m# TODO(https://github.com/pytorch/pytorch/issues/76750)\u001B[39;00m\n\u001B[1;32m    651\u001B[0m     \u001B[38;5;28mself\u001B[39m\u001B[38;5;241m.\u001B[39m_reset()  \u001B[38;5;66;03m# type: ignore[call-arg]\u001B[39;00m\n\u001B[0;32m--> 652\u001B[0m data \u001B[38;5;241m=\u001B[39m \u001B[38;5;28;43mself\u001B[39;49m\u001B[38;5;241;43m.\u001B[39;49m\u001B[43m_next_data\u001B[49m\u001B[43m(\u001B[49m\u001B[43m)\u001B[49m\n\u001B[1;32m    653\u001B[0m \u001B[38;5;28mself\u001B[39m\u001B[38;5;241m.\u001B[39m_num_yielded \u001B[38;5;241m+\u001B[39m\u001B[38;5;241m=\u001B[39m \u001B[38;5;241m1\u001B[39m\n\u001B[1;32m    654\u001B[0m \u001B[38;5;28;01mif\u001B[39;00m \u001B[38;5;28mself\u001B[39m\u001B[38;5;241m.\u001B[39m_dataset_kind \u001B[38;5;241m==\u001B[39m _DatasetKind\u001B[38;5;241m.\u001B[39mIterable \u001B[38;5;129;01mand\u001B[39;00m \\\n\u001B[1;32m    655\u001B[0m         \u001B[38;5;28mself\u001B[39m\u001B[38;5;241m.\u001B[39m_IterableDataset_len_called \u001B[38;5;129;01mis\u001B[39;00m \u001B[38;5;129;01mnot\u001B[39;00m \u001B[38;5;28;01mNone\u001B[39;00m \u001B[38;5;129;01mand\u001B[39;00m \\\n\u001B[1;32m    656\u001B[0m         \u001B[38;5;28mself\u001B[39m\u001B[38;5;241m.\u001B[39m_num_yielded \u001B[38;5;241m>\u001B[39m \u001B[38;5;28mself\u001B[39m\u001B[38;5;241m.\u001B[39m_IterableDataset_len_called:\n",
      "File \u001B[0;32m~/Library/Caches/pypoetry/virtualenvs/ai4code-kaggle-K0JRhKDo-py3.9/lib/python3.9/site-packages/torch/utils/data/dataloader.py:1347\u001B[0m, in \u001B[0;36m_MultiProcessingDataLoaderIter._next_data\u001B[0;34m(self)\u001B[0m\n\u001B[1;32m   1345\u001B[0m \u001B[38;5;28;01melse\u001B[39;00m:\n\u001B[1;32m   1346\u001B[0m     \u001B[38;5;28;01mdel\u001B[39;00m \u001B[38;5;28mself\u001B[39m\u001B[38;5;241m.\u001B[39m_task_info[idx]\n\u001B[0;32m-> 1347\u001B[0m     \u001B[38;5;28;01mreturn\u001B[39;00m \u001B[38;5;28;43mself\u001B[39;49m\u001B[38;5;241;43m.\u001B[39;49m\u001B[43m_process_data\u001B[49m\u001B[43m(\u001B[49m\u001B[43mdata\u001B[49m\u001B[43m)\u001B[49m\n",
      "File \u001B[0;32m~/Library/Caches/pypoetry/virtualenvs/ai4code-kaggle-K0JRhKDo-py3.9/lib/python3.9/site-packages/torch/utils/data/dataloader.py:1373\u001B[0m, in \u001B[0;36m_MultiProcessingDataLoaderIter._process_data\u001B[0;34m(self, data)\u001B[0m\n\u001B[1;32m   1371\u001B[0m \u001B[38;5;28mself\u001B[39m\u001B[38;5;241m.\u001B[39m_try_put_index()\n\u001B[1;32m   1372\u001B[0m \u001B[38;5;28;01mif\u001B[39;00m \u001B[38;5;28misinstance\u001B[39m(data, ExceptionWrapper):\n\u001B[0;32m-> 1373\u001B[0m     \u001B[43mdata\u001B[49m\u001B[38;5;241;43m.\u001B[39;49m\u001B[43mreraise\u001B[49m\u001B[43m(\u001B[49m\u001B[43m)\u001B[49m\n\u001B[1;32m   1374\u001B[0m \u001B[38;5;28;01mreturn\u001B[39;00m data\n",
      "File \u001B[0;32m~/Library/Caches/pypoetry/virtualenvs/ai4code-kaggle-K0JRhKDo-py3.9/lib/python3.9/site-packages/torch/_utils.py:461\u001B[0m, in \u001B[0;36mExceptionWrapper.reraise\u001B[0;34m(self)\u001B[0m\n\u001B[1;32m    457\u001B[0m \u001B[38;5;28;01mexcept\u001B[39;00m \u001B[38;5;167;01mTypeError\u001B[39;00m:\n\u001B[1;32m    458\u001B[0m     \u001B[38;5;66;03m# If the exception takes multiple arguments, don't try to\u001B[39;00m\n\u001B[1;32m    459\u001B[0m     \u001B[38;5;66;03m# instantiate since we don't know how to\u001B[39;00m\n\u001B[1;32m    460\u001B[0m     \u001B[38;5;28;01mraise\u001B[39;00m \u001B[38;5;167;01mRuntimeError\u001B[39;00m(msg) \u001B[38;5;28;01mfrom\u001B[39;00m \u001B[38;5;28mNone\u001B[39m\n\u001B[0;32m--> 461\u001B[0m \u001B[38;5;28;01mraise\u001B[39;00m exception\n",
      "\u001B[0;31mTypeError\u001B[0m: Caught TypeError in DataLoader worker process 0.\nOriginal Traceback (most recent call last):\n  File \"/Users/sergey.titov/Library/Caches/pypoetry/virtualenvs/ai4code-kaggle-K0JRhKDo-py3.9/lib/python3.9/site-packages/torch/utils/data/_utils/worker.py\", line 302, in _worker_loop\n    data = fetcher.fetch(index)\n  File \"/Users/sergey.titov/Library/Caches/pypoetry/virtualenvs/ai4code-kaggle-K0JRhKDo-py3.9/lib/python3.9/site-packages/torch/utils/data/_utils/fetch.py\", line 49, in fetch\n    data = [self.dataset[idx] for idx in possibly_batched_index]\n  File \"/Users/sergey.titov/Library/Caches/pypoetry/virtualenvs/ai4code-kaggle-K0JRhKDo-py3.9/lib/python3.9/site-packages/torch/utils/data/_utils/fetch.py\", line 49, in <listcomp>\n    data = [self.dataset[idx] for idx in possibly_batched_index]\n  File \"/Users/sergey.titov/Library/Caches/pypoetry/virtualenvs/ai4code-kaggle-K0JRhKDo-py3.9/lib/python3.9/site-packages/datasets/arrow_dataset.py\", line 2154, in __getitem__\n    return self._getitem(\n  File \"/Users/sergey.titov/Library/Caches/pypoetry/virtualenvs/ai4code-kaggle-K0JRhKDo-py3.9/lib/python3.9/site-packages/datasets/arrow_dataset.py\", line 2139, in _getitem\n    formatted_output = format_table(\n  File \"/Users/sergey.titov/Library/Caches/pypoetry/virtualenvs/ai4code-kaggle-K0JRhKDo-py3.9/lib/python3.9/site-packages/datasets/formatting/formatting.py\", line 540, in format_table\n    formatted_output = formatter(pa_table_to_format, query_type=query_type)\n  File \"/Users/sergey.titov/Library/Caches/pypoetry/virtualenvs/ai4code-kaggle-K0JRhKDo-py3.9/lib/python3.9/site-packages/datasets/formatting/formatting.py\", line 281, in __call__\n    return self.format_row(pa_table)\n  File \"/Users/sergey.titov/Library/Caches/pypoetry/virtualenvs/ai4code-kaggle-K0JRhKDo-py3.9/lib/python3.9/site-packages/datasets/formatting/torch_formatter.py\", line 58, in format_row\n    return self.recursive_tensorize(row)\n  File \"/Users/sergey.titov/Library/Caches/pypoetry/virtualenvs/ai4code-kaggle-K0JRhKDo-py3.9/lib/python3.9/site-packages/datasets/formatting/torch_formatter.py\", line 54, in recursive_tensorize\n    return map_nested(self._recursive_tensorize, data_struct, map_list=False)\n  File \"/Users/sergey.titov/Library/Caches/pypoetry/virtualenvs/ai4code-kaggle-K0JRhKDo-py3.9/lib/python3.9/site-packages/datasets/utils/py_utils.py\", line 356, in map_nested\n    mapped = [\n  File \"/Users/sergey.titov/Library/Caches/pypoetry/virtualenvs/ai4code-kaggle-K0JRhKDo-py3.9/lib/python3.9/site-packages/datasets/utils/py_utils.py\", line 357, in <listcomp>\n    _single_map_nested((function, obj, types, None, True, None))\n  File \"/Users/sergey.titov/Library/Caches/pypoetry/virtualenvs/ai4code-kaggle-K0JRhKDo-py3.9/lib/python3.9/site-packages/datasets/utils/py_utils.py\", line 293, in _single_map_nested\n    return function(data_struct)\n  File \"/Users/sergey.titov/Library/Caches/pypoetry/virtualenvs/ai4code-kaggle-K0JRhKDo-py3.9/lib/python3.9/site-packages/datasets/formatting/torch_formatter.py\", line 51, in _recursive_tensorize\n    return self._tensorize(data_struct)\n  File \"/Users/sergey.titov/Library/Caches/pypoetry/virtualenvs/ai4code-kaggle-K0JRhKDo-py3.9/lib/python3.9/site-packages/datasets/formatting/torch_formatter.py\", line 43, in _tensorize\n    return torch.tensor(value, **{**default_dtype, **self.torch_tensor_kwargs})\nTypeError: new(): invalid data type 'numpy.str_'\n"
     ]
    }
   ],
   "source": [
    "x = [batch for batch in MDM.train_dataloader()]"
   ],
   "metadata": {
    "collapsed": false,
    "pycharm": {
     "name": "#%%\n"
    }
   }
  },
  {
   "cell_type": "code",
   "execution_count": null,
   "outputs": [],
   "source": [
    "x[0]"
   ],
   "metadata": {
    "collapsed": false,
    "pycharm": {
     "name": "#%%\n"
    }
   }
  },
  {
   "cell_type": "code",
   "execution_count": null,
   "outputs": [],
   "source": [
    "model = MarkdownModelPl()\n",
    "wandb_logger = WandbLogger(project=\"JupyterKaggleBaseline\")\n",
    "\n",
    "trainer = pl.Trainer(\n",
    "    gpus = 1,\n",
    "    max_epochs=20,\n",
    "    logger=wandb_logger,\n",
    "    enable_progress_bar=False,\n",
    "    log_every_n_steps=20,\n",
    "    accumulate_grad_batches=4,\n",
    ")\n",
    "trainer.fit(model, MDM)"
   ],
   "metadata": {
    "collapsed": false,
    "pycharm": {
     "name": "#%%\n"
    }
   }
  }
 ],
 "metadata": {
  "kernelspec": {
   "display_name": "Python 3",
   "language": "python",
   "name": "python3"
  },
  "language_info": {
   "codemirror_mode": {
    "name": "ipython",
    "version": 2
   },
   "file_extension": ".py",
   "mimetype": "text/x-python",
   "name": "python",
   "nbconvert_exporter": "python",
   "pygments_lexer": "ipython2",
   "version": "2.7.6"
  }
 },
 "nbformat": 4,
 "nbformat_minor": 0
}