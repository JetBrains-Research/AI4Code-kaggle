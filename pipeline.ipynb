{
 "cells": [
  {
   "cell_type": "code",
   "execution_count": null,
   "outputs": [],
   "source": [
    "from pathlib import Path\n",
    "\n",
    "import seaborn as sns\n",
    "\n",
    "from dataloader import Dataset\n",
    "from sampler import Sampler"
   ],
   "metadata": {
    "collapsed": false,
    "pycharm": {
     "name": "#%%\n"
    }
   }
  },
  {
   "cell_type": "code",
   "execution_count": null,
   "metadata": {
    "collapsed": true,
    "pycharm": {
     "name": "#%%\n"
    }
   },
   "outputs": [],
   "source": [
    "data_dir = Path('../raw_data/')\n",
    "save_dir = Path('data/')\n",
    "dataset = Dataset(data_dir, save_dir)\n",
    "dataset.prepare_and_save_data()"
   ]
  },
  {
   "cell_type": "code",
   "execution_count": null,
   "outputs": [],
   "source": [
    "path = Path('data/train_dataset.fth')\n",
    "\n",
    "sampler = Sampler(path, asymmetric=False, dist_processing='log', sample_size=0.01)\n",
    "pairs = sampler.sample()\n",
    "sns.histplot(pairs.score);"
   ],
   "metadata": {
    "collapsed": false,
    "pycharm": {
     "name": "#%%\n"
    }
   }
  },
  {
   "cell_type": "code",
   "execution_count": null,
   "outputs": [],
   "source": [
    "sampler = Sampler(path, asymmetric=False, dist_processing='normalised', sample_size=0.01)\n",
    "pairs = sampler.sample()\n",
    "sns.histplot(pairs.score);"
   ],
   "metadata": {
    "collapsed": false,
    "pycharm": {
     "name": "#%%\n"
    }
   }
  },
  {
   "cell_type": "code",
   "execution_count": null,
   "outputs": [],
   "source": [
    "sampler = Sampler(path, asymmetric=True, dist_processing='log', sample_size=0.01)\n",
    "pairs = sampler.sample()\n",
    "sns.histplot(pairs.score);"
   ],
   "metadata": {
    "collapsed": false,
    "pycharm": {
     "name": "#%%\n"
    }
   }
  },
  {
   "cell_type": "code",
   "execution_count": null,
   "outputs": [],
   "source": [
    "sampler = Sampler(path, asymmetric=True, dist_processing='normalised', sample_size=0.01)\n",
    "pairs = sampler.sample()\n",
    "sns.histplot(pairs.score);"
   ],
   "metadata": {
    "collapsed": false,
    "pycharm": {
     "name": "#%%\n"
    }
   }
  }
 ],
 "metadata": {
  "kernelspec": {
   "display_name": "Python 3",
   "language": "python",
   "name": "python3"
  },
  "language_info": {
   "codemirror_mode": {
    "name": "ipython",
    "version": 2
   },
   "file_extension": ".py",
   "mimetype": "text/x-python",
   "name": "python",
   "nbconvert_exporter": "python",
   "pygments_lexer": "ipython2",
   "version": "2.7.6"
  }
 },
 "nbformat": 4,
 "nbformat_minor": 0
}