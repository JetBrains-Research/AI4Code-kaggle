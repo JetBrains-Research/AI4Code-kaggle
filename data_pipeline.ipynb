{
 "cells": [
  {
   "cell_type": "code",
   "execution_count": 1,
   "outputs": [],
   "source": [
    "\n",
    "%load_ext autoreload\n",
    "%autoreload 2\n",
    "\n",
    "from pathlib import Path\n",
    "\n",
    "import seaborn as sns\n",
    "import sys,os\n",
    "sys.path.append(os.path.realpath('data_managment/'))\n",
    "from sampler import Sampler\n",
    "from s3_connector import download_dataset_version"
   ],
   "metadata": {
    "collapsed": false,
    "pycharm": {
     "name": "#%%\n"
    }
   }
  },
  {
   "cell_type": "code",
   "execution_count": 2,
   "metadata": {
    "collapsed": true,
    "pycharm": {
     "name": "#%%\n"
    }
   },
   "outputs": [],
   "source": [
    "data_dir = Path('../raw_data/')\n",
    "save_dir = Path('data/')\n",
    "path = Path('data/train_dataset.fth')\n",
    "# dataset = Dataset(data_dir, save_dir)\n",
    "# dataset.prepare_and_save_data()"
   ]
  },
  {
   "cell_type": "code",
   "execution_count": 4,
   "outputs": [
    {
     "name": "stderr",
     "output_type": "stream",
     "text": [
      "100%|██████████| 13236/13236 [00:56<00:00, 233.14it/s]\n"
     ]
    },
    {
     "data": {
      "text/plain": "<Figure size 432x288 with 1 Axes>",
      "image/png": "[encoded data removed]"
     },
     "metadata": {
      "needs_background": "light"
     },
     "output_type": "display_data"
    }
   ],
   "source": [
    "path = Path('data/train_dataset.fth')\n",
    "\n",
    "sampler = Sampler(path, asymmetric=False, dist_processing='log', sample_size=0.1)\n",
    "pairs = sampler.sample()\n",
    "sns.histplot(pairs.score);\n",
    "pairs.reset_index().to_feather('data/log_symmetric_pairs.fth')"
   ],
   "metadata": {
    "collapsed": false,
    "pycharm": {
     "name": "#%%\n"
    }
   }
  },
  {
   "cell_type": "code",
   "execution_count": 5,
   "outputs": [
    {
     "name": "stdout",
     "output_type": "stream",
     "text": [
      "{'dist_processing': 'log', 'sample_method': 'harmonic', 'filtration': 'first_md', 'asymmetric': True}\n"
     ]
    },
    {
     "name": "stderr",
     "output_type": "stream",
     "text": [
      "100%|██████████| 1389/1389 [00:03<00:00, 386.27it/s]\n"
     ]
    },
    {
     "name": "stdout",
     "output_type": "stream",
     "text": [
      "{'dist_processing': 'log', 'sample_method': 'harmonic', 'filtration': 'first_md', 'asymmetric': False}\n"
     ]
    },
    {
     "name": "stderr",
     "output_type": "stream",
     "text": [
      "100%|██████████| 1384/1384 [00:04<00:00, 304.00it/s]\n"
     ]
    },
    {
     "name": "stdout",
     "output_type": "stream",
     "text": [
      "{'dist_processing': 'log', 'sample_method': 'harmonic', 'filtration': 'full', 'asymmetric': True}\n",
      "empty or non-existing preprocessing was entered\n"
     ]
    },
    {
     "name": "stderr",
     "output_type": "stream",
     "text": [
      "100%|██████████| 1386/1386 [00:04<00:00, 299.91it/s]\n"
     ]
    },
    {
     "name": "stdout",
     "output_type": "stream",
     "text": [
      "{'dist_processing': 'log', 'sample_method': 'harmonic', 'filtration': 'full', 'asymmetric': False}\n",
      "empty or non-existing preprocessing was entered\n"
     ]
    },
    {
     "name": "stderr",
     "output_type": "stream",
     "text": [
      "100%|██████████| 1384/1384 [00:07<00:00, 194.58it/s]\n"
     ]
    },
    {
     "name": "stdout",
     "output_type": "stream",
     "text": [
      "{'dist_processing': 'normalised', 'sample_method': 'harmonic', 'filtration': 'first_md', 'asymmetric': True}\n"
     ]
    },
    {
     "name": "stderr",
     "output_type": "stream",
     "text": [
      "100%|██████████| 1387/1387 [00:03<00:00, 442.85it/s]\n"
     ]
    },
    {
     "name": "stdout",
     "output_type": "stream",
     "text": [
      "{'dist_processing': 'normalised', 'sample_method': 'harmonic', 'filtration': 'first_md', 'asymmetric': False}\n"
     ]
    },
    {
     "name": "stderr",
     "output_type": "stream",
     "text": [
      "100%|██████████| 1382/1382 [00:04<00:00, 277.93it/s]\n"
     ]
    },
    {
     "name": "stdout",
     "output_type": "stream",
     "text": [
      "{'dist_processing': 'normalised', 'sample_method': 'harmonic', 'filtration': 'full', 'asymmetric': True}\n",
      "empty or non-existing preprocessing was entered\n"
     ]
    },
    {
     "name": "stderr",
     "output_type": "stream",
     "text": [
      "100%|██████████| 1386/1386 [00:04<00:00, 336.23it/s]\n"
     ]
    },
    {
     "name": "stdout",
     "output_type": "stream",
     "text": [
      "{'dist_processing': 'normalised', 'sample_method': 'harmonic', 'filtration': 'full', 'asymmetric': False}\n",
      "empty or non-existing preprocessing was entered\n"
     ]
    },
    {
     "name": "stderr",
     "output_type": "stream",
     "text": [
      "100%|██████████| 1385/1385 [00:08<00:00, 172.96it/s]\n"
     ]
    },
    {
     "name": "stdout",
     "output_type": "stream",
     "text": [
      "{'dist_processing': 'multiclass', 'sample_method': 'harmonic', 'filtration': 'first_md', 'asymmetric': True}\n"
     ]
    },
    {
     "name": "stderr",
     "output_type": "stream",
     "text": [
      "100%|██████████| 1385/1385 [00:03<00:00, 438.52it/s]\n"
     ]
    },
    {
     "name": "stdout",
     "output_type": "stream",
     "text": [
      "{'dist_processing': 'multiclass', 'sample_method': 'harmonic', 'filtration': 'first_md', 'asymmetric': False}\n"
     ]
    },
    {
     "name": "stderr",
     "output_type": "stream",
     "text": [
      "100%|██████████| 1389/1389 [00:05<00:00, 232.71it/s]\n"
     ]
    },
    {
     "name": "stdout",
     "output_type": "stream",
     "text": [
      "{'dist_processing': 'multiclass', 'sample_method': 'harmonic', 'filtration': 'full', 'asymmetric': True}\n",
      "empty or non-existing preprocessing was entered\n"
     ]
    },
    {
     "name": "stderr",
     "output_type": "stream",
     "text": [
      "100%|██████████| 1385/1385 [00:03<00:00, 349.18it/s]\n"
     ]
    },
    {
     "name": "stdout",
     "output_type": "stream",
     "text": [
      "{'dist_processing': 'multiclass', 'sample_method': 'harmonic', 'filtration': 'full', 'asymmetric': False}\n",
      "empty or non-existing preprocessing was entered\n"
     ]
    },
    {
     "name": "stderr",
     "output_type": "stream",
     "text": [
      "100%|██████████| 1383/1383 [00:10<00:00, 136.15it/s]\n"
     ]
    },
    {
     "name": "stdout",
     "output_type": "stream",
     "text": [
      "{'dist_processing': 'log', 'sample_method': 'harmonic', 'filtration': 'first_md', 'asymmetric': True}\n"
     ]
    },
    {
     "name": "stderr",
     "output_type": "stream",
     "text": [
      "100%|██████████| 1388/1388 [00:03<00:00, 455.91it/s]\n"
     ]
    },
    {
     "name": "stdout",
     "output_type": "stream",
     "text": [
      "{'dist_processing': 'log', 'sample_method': 'harmonic', 'filtration': 'first_md', 'asymmetric': False}\n"
     ]
    },
    {
     "name": "stderr",
     "output_type": "stream",
     "text": [
      "100%|██████████| 1387/1387 [00:04<00:00, 295.65it/s]\n"
     ]
    },
    {
     "name": "stdout",
     "output_type": "stream",
     "text": [
      "{'dist_processing': 'log', 'sample_method': 'harmonic', 'filtration': 'full', 'asymmetric': True}\n",
      "empty or non-existing preprocessing was entered\n"
     ]
    },
    {
     "name": "stderr",
     "output_type": "stream",
     "text": [
      "100%|██████████| 1387/1387 [00:03<00:00, 410.47it/s]\n"
     ]
    },
    {
     "name": "stdout",
     "output_type": "stream",
     "text": [
      "{'dist_processing': 'log', 'sample_method': 'harmonic', 'filtration': 'full', 'asymmetric': False}\n",
      "empty or non-existing preprocessing was entered\n"
     ]
    },
    {
     "name": "stderr",
     "output_type": "stream",
     "text": [
      "100%|██████████| 1383/1383 [00:11<00:00, 125.29it/s]\n"
     ]
    },
    {
     "name": "stdout",
     "output_type": "stream",
     "text": [
      "{'dist_processing': 'binary', 'sample_method': 'harmonic', 'filtration': 'first_md', 'asymmetric': True}\n"
     ]
    },
    {
     "name": "stderr",
     "output_type": "stream",
     "text": [
      "100%|██████████| 1388/1388 [00:03<00:00, 396.89it/s]\n"
     ]
    },
    {
     "name": "stdout",
     "output_type": "stream",
     "text": [
      "{'dist_processing': 'binary', 'sample_method': 'harmonic', 'filtration': 'first_md', 'asymmetric': False}\n"
     ]
    },
    {
     "name": "stderr",
     "output_type": "stream",
     "text": [
      "100%|██████████| 1389/1389 [00:05<00:00, 274.66it/s]\n"
     ]
    },
    {
     "name": "stdout",
     "output_type": "stream",
     "text": [
      "{'dist_processing': 'binary', 'sample_method': 'harmonic', 'filtration': 'full', 'asymmetric': True}\n",
      "empty or non-existing preprocessing was entered\n"
     ]
    },
    {
     "name": "stderr",
     "output_type": "stream",
     "text": [
      "100%|██████████| 1387/1387 [00:04<00:00, 338.14it/s]\n"
     ]
    },
    {
     "name": "stdout",
     "output_type": "stream",
     "text": [
      "{'dist_processing': 'binary', 'sample_method': 'harmonic', 'filtration': 'full', 'asymmetric': False}\n",
      "empty or non-existing preprocessing was entered\n"
     ]
    },
    {
     "name": "stderr",
     "output_type": "stream",
     "text": [
      "100%|██████████| 1388/1388 [00:08<00:00, 171.68it/s]\n"
     ]
    }
   ],
   "source": [
    "import itertools\n",
    "\n",
    "all_dataset_params = {\n",
    "    'dist_processing': ['log', 'normalised', 'multiclass', 'log', 'binary'],\n",
    "    'sample_method' :['harmonic'],\n",
    "    'filtration' : ['first_md', 'full'],\n",
    "    'asymmetric' : [True, False]\n",
    "}\n",
    "\n",
    "keys, values = zip(*all_dataset_params.items())\n",
    "dataset_params = [dict(zip(keys, v)) for v in itertools.product(*values)]\n",
    "\n",
    "for params in dataset_params:\n",
    "    print(params)\n",
    "    sampler = Sampler(path, sample_size=0.01, **params)\n",
    "    pairs = sampler.sample()"
   ],
   "metadata": {
    "collapsed": false,
    "pycharm": {
     "name": "#%%\n"
    }
   }
  },
  {
   "cell_type": "code",
   "execution_count": null,
   "outputs": [],
   "source": [],
   "metadata": {
    "collapsed": false,
    "pycharm": {
     "name": "#%%\n"
    }
   }
  },
  {
   "cell_type": "code",
   "execution_count": 42,
   "outputs": [
    {
     "name": "stderr",
     "output_type": "stream",
     "text": [
      "16it [00:00, 27.64it/s]\n"
     ]
    }
   ],
   "source": [
    "download_dataset_version('2022-06-30', )"
   ],
   "metadata": {
    "collapsed": false,
    "pycharm": {
     "name": "#%%\n"
    }
   }
  },
  {
   "cell_type": "markdown",
   "source": [
    "# Markdown ranks dataset"
   ],
   "metadata": {
    "collapsed": false,
    "pycharm": {
     "name": "#%% md\n"
    }
   }
  },
  {
   "cell_type": "code",
   "execution_count": 3,
   "outputs": [
    {
     "data": {
      "text/plain": "                                               source  pct_rank ancestor_id\n58  ## Note : This Kernel is a Fork from the amazi...  0.000000    aa2da37e\n59  ## About The Competition : Detecting Steel Def...  0.010753    aa2da37e\n60   Reference :http://faculty.neu.edu.cn/yunhyan/...  0.021505    aa2da37e\n61                ## import modules and define models  0.032258    aa2da37e\n68  * There are similar numbers of images with and...  0.107527    aa2da37e",
      "text/html": "<div>\n<style scoped>\n    .dataframe tbody tr th:only-of-type {\n        vertical-align: middle;\n    }\n\n    .dataframe tbody tr th {\n        vertical-align: top;\n    }\n\n    .dataframe thead th {\n        text-align: right;\n    }\n</style>\n<table border=\"1\" class=\"dataframe\">\n  <thead>\n    <tr style=\"text-align: right;\">\n      <th></th>\n      <th>source</th>\n      <th>pct_rank</th>\n      <th>ancestor_id</th>\n    </tr>\n  </thead>\n  <tbody>\n    <tr>\n      <th>58</th>\n      <td>## Note : This Kernel is a Fork from the amazi...</td>\n      <td>0.000000</td>\n      <td>aa2da37e</td>\n    </tr>\n    <tr>\n      <th>59</th>\n      <td>## About The Competition : Detecting Steel Def...</td>\n      <td>0.010753</td>\n      <td>aa2da37e</td>\n    </tr>\n    <tr>\n      <th>60</th>\n      <td>Reference :http://faculty.neu.edu.cn/yunhyan/...</td>\n      <td>0.021505</td>\n      <td>aa2da37e</td>\n    </tr>\n    <tr>\n      <th>61</th>\n      <td>## import modules and define models</td>\n      <td>0.032258</td>\n      <td>aa2da37e</td>\n    </tr>\n    <tr>\n      <th>68</th>\n      <td>* There are similar numbers of images with and...</td>\n      <td>0.107527</td>\n      <td>aa2da37e</td>\n    </tr>\n  </tbody>\n</table>\n</div>"
     },
     "execution_count": 3,
     "metadata": {},
     "output_type": "execute_result"
    }
   ],
   "source": [
    "path = Path('data/train_dataset.fth')\n",
    "sampler = Sampler(path)\n",
    "rank_df = sampler.sample_ranks()\n",
    "rank_df.head()"
   ],
   "metadata": {
    "collapsed": false,
    "pycharm": {
     "name": "#%%\n"
    }
   }
  },
  {
   "cell_type": "code",
   "execution_count": 4,
   "outputs": [],
   "source": [
    "rank_df.reset_index().to_feather('data/train_markdown_ranks.fth')"
   ],
   "metadata": {
    "collapsed": false,
    "pycharm": {
     "name": "#%%\n"
    }
   }
  },
  {
   "cell_type": "code",
   "execution_count": null,
   "outputs": [],
   "source": [],
   "metadata": {
    "collapsed": false,
    "pycharm": {
     "name": "#%%\n"
    }
   }
  }
 ],
 "metadata": {
  "kernelspec": {
   "display_name": "Python 3",
   "language": "python",
   "name": "python3"
  },
  "language_info": {
   "codemirror_mode": {
    "name": "ipython",
    "version": 2
   },
   "file_extension": ".py",
   "mimetype": "text/x-python",
   "name": "python",
   "nbconvert_exporter": "python",
   "pygments_lexer": "ipython2",
   "version": "2.7.6"
  }
 },
 "nbformat": 4,
 "nbformat_minor": 0
}