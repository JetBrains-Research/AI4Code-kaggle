{
 "cells": [
  {
   "cell_type": "code",
   "execution_count": 2,
   "outputs": [],
   "source": [
    "%load_ext autoreload\n",
    "%autoreload 2\n",
    "\n",
    "from pathlib import Path\n",
    "\n",
    "import seaborn as sns\n",
    "\n",
    "from data_managment import MDSampler, download_dataset_version"
   ],
   "metadata": {
    "collapsed": false,
    "pycharm": {
     "name": "#%%\n"
    }
   }
  },
  {
   "cell_type": "code",
   "execution_count": null,
   "outputs": [],
   "source": [
    "data_dir = Path('../raw_data/')\n",
    "save_dir = Path('data/')\n",
    "path = Path('data/train_dataset.fth')"
   ],
   "metadata": {
    "collapsed": false,
    "pycharm": {
     "name": "#%%\n"
    }
   }
  },
  {
   "cell_type": "code",
   "execution_count": null,
   "outputs": [],
   "source": [
    "path = Path('data/train_dataset.fth')\n",
    "\n",
    "sampler = Sampler(path, asymmetric=False, dist_processing='log', sample_size=0.1)\n",
    "pairs = sampler.sample()\n",
    "sns.histplot(pairs.score);\n",
    "pairs.reset_index().to_feather('data/log_symmetric_pairs.fth')"
   ],
   "metadata": {
    "collapsed": false,
    "pycharm": {
     "name": "#%%\n"
    }
   }
  },
  {
   "cell_type": "code",
   "execution_count": null,
   "outputs": [],
   "source": [
    "import itertools\n",
    "\n",
    "all_dataset_params = {\n",
    "    'dist_processing': ['log', 'normalised', 'multiclass', 'log', 'binary'],\n",
    "    'sample_method' :['harmonic'],\n",
    "    'filtration' : ['first_md', 'full'],\n",
    "    'asymmetric' : [True, False]\n",
    "}\n",
    "\n",
    "keys, values = zip(*all_dataset_params.items())\n",
    "dataset_params = [dict(zip(keys, v)) for v in itertools.product(*values)]\n",
    "\n",
    "for params in dataset_params:\n",
    "    print(params)\n",
    "    sampler = Sampler(path, sample_size=0.01, **params)\n",
    "    pairs = sampler.sample()"
   ],
   "metadata": {
    "collapsed": false,
    "pycharm": {
     "name": "#%%\n"
    }
   }
  },
  {
   "cell_type": "code",
   "execution_count": null,
   "outputs": [],
   "source": [
    "download_dataset_version('2022-06-30', )"
   ],
   "metadata": {
    "collapsed": false,
    "pycharm": {
     "name": "#%%\n"
    }
   }
  },
  {
   "cell_type": "code",
   "execution_count": null,
   "outputs": [],
   "source": [
    "path = Path('data/train_dataset.fth')\n",
    "sampler = Sampler(path, asymmetric=False, dist_processing='log', sample_size=0.1)"
   ],
   "metadata": {
    "collapsed": false,
    "pycharm": {
     "name": "#%%\n"
    }
   }
  },
  {
   "cell_type": "code",
   "execution_count": null,
   "outputs": [],
   "source": [
    "df = sampler.sample_ranks(1000)"
   ],
   "metadata": {
    "collapsed": false,
    "pycharm": {
     "name": "#%%\n"
    }
   }
  },
  {
   "cell_type": "code",
   "execution_count": 3,
   "outputs": [
    {
     "name": "stderr",
     "output_type": "stream",
     "text": [
      "100%|██████████| 100/100 [00:00<00:00, 267.23it/s]\n"
     ]
    },
    {
     "data": {
      "text/plain": "               id   cell_id cell_type  \\\n0  005a0b5efe318c  2aeaa963  markdown   \n1  005a0b5efe318c  2993372a  markdown   \n2  005a0b5efe318c  20bfc5dd  markdown   \n3  005a0b5efe318c  ad61a02e      code   \n4  005a0b5efe318c  9c7e9cf9  markdown   \n\n                                              source  rank ancestor_id  \\\n0  # Kaggle Seattle Airbnb\\n\\n## Project Info\\n\\n...     0    2d5d7ed0   \n1  ---\\n\\n# Airbnb Exploration\\n\\n## Who needs th...     1    2d5d7ed0   \n2                              ---\\n\\n# Dependencies     2    2d5d7ed0   \n3  # Statistics\\nimport pandas as pd\\nimport nump...     3    2d5d7ed0   \n4  ---\\n\\n## Load Datasets\\n\\n- listings: The lis...     4    2d5d7ed0   \n\n  parent_id  \n0       NaN  \n1       NaN  \n2       NaN  \n3       NaN  \n4       NaN  ",
      "text/html": "<div>\n<style scoped>\n    .dataframe tbody tr th:only-of-type {\n        vertical-align: middle;\n    }\n\n    .dataframe tbody tr th {\n        vertical-align: top;\n    }\n\n    .dataframe thead th {\n        text-align: right;\n    }\n</style>\n<table border=\"1\" class=\"dataframe\">\n  <thead>\n    <tr style=\"text-align: right;\">\n      <th></th>\n      <th>id</th>\n      <th>cell_id</th>\n      <th>cell_type</th>\n      <th>source</th>\n      <th>rank</th>\n      <th>ancestor_id</th>\n      <th>parent_id</th>\n    </tr>\n  </thead>\n  <tbody>\n    <tr>\n      <th>0</th>\n      <td>005a0b5efe318c</td>\n      <td>2aeaa963</td>\n      <td>markdown</td>\n      <td># Kaggle Seattle Airbnb\\n\\n## Project Info\\n\\n...</td>\n      <td>0</td>\n      <td>2d5d7ed0</td>\n      <td>NaN</td>\n    </tr>\n    <tr>\n      <th>1</th>\n      <td>005a0b5efe318c</td>\n      <td>2993372a</td>\n      <td>markdown</td>\n      <td>---\\n\\n# Airbnb Exploration\\n\\n## Who needs th...</td>\n      <td>1</td>\n      <td>2d5d7ed0</td>\n      <td>NaN</td>\n    </tr>\n    <tr>\n      <th>2</th>\n      <td>005a0b5efe318c</td>\n      <td>20bfc5dd</td>\n      <td>markdown</td>\n      <td>---\\n\\n# Dependencies</td>\n      <td>2</td>\n      <td>2d5d7ed0</td>\n      <td>NaN</td>\n    </tr>\n    <tr>\n      <th>3</th>\n      <td>005a0b5efe318c</td>\n      <td>ad61a02e</td>\n      <td>code</td>\n      <td># Statistics\\nimport pandas as pd\\nimport nump...</td>\n      <td>3</td>\n      <td>2d5d7ed0</td>\n      <td>NaN</td>\n    </tr>\n    <tr>\n      <th>4</th>\n      <td>005a0b5efe318c</td>\n      <td>9c7e9cf9</td>\n      <td>markdown</td>\n      <td>---\\n\\n## Load Datasets\\n\\n- listings: The lis...</td>\n      <td>4</td>\n      <td>2d5d7ed0</td>\n      <td>NaN</td>\n    </tr>\n  </tbody>\n</table>\n</div>"
     },
     "execution_count": 3,
     "metadata": {},
     "output_type": "execute_result"
    }
   ],
   "source": [
    "from data_managment import Dataset\n",
    "a = Dataset(Path('../raw_data/train'), n=100)\n",
    "df = a.prepare_and_save_data()\n",
    "df.head()"
   ],
   "metadata": {
    "collapsed": false,
    "pycharm": {
     "name": "#%%\n"
    }
   }
  },
  {
   "cell_type": "code",
   "execution_count": 4,
   "outputs": [
    {
     "data": {
      "text/plain": "                  id   cell_id cell_type  \\\n0     005a0b5efe318c  2aeaa963  markdown   \n1     005a0b5efe318c  2993372a  markdown   \n2     005a0b5efe318c  20bfc5dd  markdown   \n3     005a0b5efe318c  ad61a02e      code   \n4     005a0b5efe318c  9c7e9cf9  markdown   \n...              ...       ...       ...   \n4146  fce6499e20976f  7b5cc150      code   \n4147  fce6499e20976f  3a2de37f      code   \n4148  fce6499e20976f  67e434f1  markdown   \n4149  fce6499e20976f  b90f5842      code   \n4150  fce6499e20976f  338e81e5  markdown   \n\n                                                 source  rank ancestor_id  \\\n0     # Kaggle Seattle Airbnb\\n\\n## Project Info\\n\\n...     0    2d5d7ed0   \n1     ---\\n\\n# Airbnb Exploration\\n\\n## Who needs th...     1    2d5d7ed0   \n2                                 ---\\n\\n# Dependencies     2    2d5d7ed0   \n3     # Statistics\\nimport pandas as pd\\nimport nump...     3    2d5d7ed0   \n4     ---\\n\\n## Load Datasets\\n\\n- listings: The lis...     4    2d5d7ed0   \n...                                                 ...   ...         ...   \n4146                       from pandas import DataFrame   109    faa56a2c   \n4147  predict = pd.DataFrame(predictions, columns=[\"...   110    faa56a2c   \n4148                               ### Model Evaluation   111    faa56a2c   \n4149  np.sqrt(mean_squared_error(test_data, predicti...   112    faa56a2c   \n4150  ### Conclusion:\\n#### Compared to the moving a...   113    faa56a2c   \n\n     parent_id  \n0          NaN  \n1          NaN  \n2          NaN  \n3          NaN  \n4          NaN  \n...        ...  \n4146       NaN  \n4147       NaN  \n4148       NaN  \n4149       NaN  \n4150       NaN  \n\n[4151 rows x 7 columns]",
      "text/html": "<div>\n<style scoped>\n    .dataframe tbody tr th:only-of-type {\n        vertical-align: middle;\n    }\n\n    .dataframe tbody tr th {\n        vertical-align: top;\n    }\n\n    .dataframe thead th {\n        text-align: right;\n    }\n</style>\n<table border=\"1\" class=\"dataframe\">\n  <thead>\n    <tr style=\"text-align: right;\">\n      <th></th>\n      <th>id</th>\n      <th>cell_id</th>\n      <th>cell_type</th>\n      <th>source</th>\n      <th>rank</th>\n      <th>ancestor_id</th>\n      <th>parent_id</th>\n    </tr>\n  </thead>\n  <tbody>\n    <tr>\n      <th>0</th>\n      <td>005a0b5efe318c</td>\n      <td>2aeaa963</td>\n      <td>markdown</td>\n      <td># Kaggle Seattle Airbnb\\n\\n## Project Info\\n\\n...</td>\n      <td>0</td>\n      <td>2d5d7ed0</td>\n      <td>NaN</td>\n    </tr>\n    <tr>\n      <th>1</th>\n      <td>005a0b5efe318c</td>\n      <td>2993372a</td>\n      <td>markdown</td>\n      <td>---\\n\\n# Airbnb Exploration\\n\\n## Who needs th...</td>\n      <td>1</td>\n      <td>2d5d7ed0</td>\n      <td>NaN</td>\n    </tr>\n    <tr>\n      <th>2</th>\n      <td>005a0b5efe318c</td>\n      <td>20bfc5dd</td>\n      <td>markdown</td>\n      <td>---\\n\\n# Dependencies</td>\n      <td>2</td>\n      <td>2d5d7ed0</td>\n      <td>NaN</td>\n    </tr>\n    <tr>\n      <th>3</th>\n      <td>005a0b5efe318c</td>\n      <td>ad61a02e</td>\n      <td>code</td>\n      <td># Statistics\\nimport pandas as pd\\nimport nump...</td>\n      <td>3</td>\n      <td>2d5d7ed0</td>\n      <td>NaN</td>\n    </tr>\n    <tr>\n      <th>4</th>\n      <td>005a0b5efe318c</td>\n      <td>9c7e9cf9</td>\n      <td>markdown</td>\n      <td>---\\n\\n## Load Datasets\\n\\n- listings: The lis...</td>\n      <td>4</td>\n      <td>2d5d7ed0</td>\n      <td>NaN</td>\n    </tr>\n    <tr>\n      <th>...</th>\n      <td>...</td>\n      <td>...</td>\n      <td>...</td>\n      <td>...</td>\n      <td>...</td>\n      <td>...</td>\n      <td>...</td>\n    </tr>\n    <tr>\n      <th>4146</th>\n      <td>fce6499e20976f</td>\n      <td>7b5cc150</td>\n      <td>code</td>\n      <td>from pandas import DataFrame</td>\n      <td>109</td>\n      <td>faa56a2c</td>\n      <td>NaN</td>\n    </tr>\n    <tr>\n      <th>4147</th>\n      <td>fce6499e20976f</td>\n      <td>3a2de37f</td>\n      <td>code</td>\n      <td>predict = pd.DataFrame(predictions, columns=[\"...</td>\n      <td>110</td>\n      <td>faa56a2c</td>\n      <td>NaN</td>\n    </tr>\n    <tr>\n      <th>4148</th>\n      <td>fce6499e20976f</td>\n      <td>67e434f1</td>\n      <td>markdown</td>\n      <td>### Model Evaluation</td>\n      <td>111</td>\n      <td>faa56a2c</td>\n      <td>NaN</td>\n    </tr>\n    <tr>\n      <th>4149</th>\n      <td>fce6499e20976f</td>\n      <td>b90f5842</td>\n      <td>code</td>\n      <td>np.sqrt(mean_squared_error(test_data, predicti...</td>\n      <td>112</td>\n      <td>faa56a2c</td>\n      <td>NaN</td>\n    </tr>\n    <tr>\n      <th>4150</th>\n      <td>fce6499e20976f</td>\n      <td>338e81e5</td>\n      <td>markdown</td>\n      <td>### Conclusion:\\n#### Compared to the moving a...</td>\n      <td>113</td>\n      <td>faa56a2c</td>\n      <td>NaN</td>\n    </tr>\n  </tbody>\n</table>\n<p>4151 rows × 7 columns</p>\n</div>"
     },
     "execution_count": 4,
     "metadata": {},
     "output_type": "execute_result"
    }
   ],
   "source": [
    "df"
   ],
   "metadata": {
    "collapsed": false,
    "pycharm": {
     "name": "#%%\n"
    }
   }
  },
  {
   "cell_type": "code",
   "execution_count": null,
   "outputs": [],
   "source": [],
   "metadata": {
    "collapsed": false,
    "pycharm": {
     "name": "#%%\n"
    }
   }
  }
 ],
 "metadata": {
  "kernelspec": {
   "display_name": "Python 3",
   "language": "python",
   "name": "python3"
  },
  "language_info": {
   "codemirror_mode": {
    "name": "ipython",
    "version": 2
   },
   "file_extension": ".py",
   "mimetype": "text/x-python",
   "name": "python",
   "nbconvert_exporter": "python",
   "pygments_lexer": "ipython2",
   "version": "2.7.6"
  }
 },
 "nbformat": 4,
 "nbformat_minor": 0
}