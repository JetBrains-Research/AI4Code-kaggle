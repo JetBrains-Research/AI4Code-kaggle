{
 "cells": [
  {
   "cell_type": "code",
   "execution_count": 1,
   "metadata": {
    "pycharm": {
     "name": "#%%\n"
    }
   },
   "outputs": [],
   "source": [
    "%load_ext autoreload\n",
    "%autoreload 2\n",
    "\n",
    "from pathlib import Path\n",
    "\n",
    "import seaborn as sns\n",
    "\n",
    "from data_managment import MDSampler, download_dataset_version"
   ]
  },
  {
   "cell_type": "code",
   "execution_count": 2,
   "metadata": {
    "pycharm": {
     "name": "#%%\n"
    }
   },
   "outputs": [],
   "source": [
    "data_dir = Path('../raw_data/')\n",
    "save_dir = Path('data/')\n",
    "path = Path('data/train_dataset.fth')"
   ]
  },
  {
   "cell_type": "code",
   "execution_count": 3,
   "metadata": {
    "pycharm": {
     "name": "#%%\n"
    }
   },
   "outputs": [
    {
     "ename": "NameError",
     "evalue": "name 'Sampler' is not defined",
     "output_type": "error",
     "traceback": [
      "\u001B[0;31m---------------------------------------------------------------------------\u001B[0m",
      "\u001B[0;31mNameError\u001B[0m                                 Traceback (most recent call last)",
      "Input \u001B[0;32mIn [3]\u001B[0m, in \u001B[0;36m<cell line: 3>\u001B[0;34m()\u001B[0m\n\u001B[1;32m      1\u001B[0m path \u001B[38;5;241m=\u001B[39m Path(\u001B[38;5;124m'\u001B[39m\u001B[38;5;124mdata/train_dataset.fth\u001B[39m\u001B[38;5;124m'\u001B[39m)\n\u001B[0;32m----> 3\u001B[0m sampler \u001B[38;5;241m=\u001B[39m \u001B[43mSampler\u001B[49m(path, asymmetric\u001B[38;5;241m=\u001B[39m\u001B[38;5;28;01mFalse\u001B[39;00m, dist_processing\u001B[38;5;241m=\u001B[39m\u001B[38;5;124m'\u001B[39m\u001B[38;5;124mlog\u001B[39m\u001B[38;5;124m'\u001B[39m, sample_size\u001B[38;5;241m=\u001B[39m\u001B[38;5;241m0.1\u001B[39m)\n\u001B[1;32m      4\u001B[0m pairs \u001B[38;5;241m=\u001B[39m sampler\u001B[38;5;241m.\u001B[39msample()\n\u001B[1;32m      5\u001B[0m sns\u001B[38;5;241m.\u001B[39mhistplot(pairs\u001B[38;5;241m.\u001B[39mscore);\n",
      "\u001B[0;31mNameError\u001B[0m: name 'Sampler' is not defined"
     ]
    }
   ],
   "source": [
    "path = Path('data/train_dataset.fth')\n",
    "\n",
    "sampler = Sampler(path, asymmetric=False, dist_processing='log', sample_size=0.1)\n",
    "pairs = sampler.sample()\n",
    "sns.histplot(pairs.score);\n",
    "pairs.reset_index().to_feather('data/log_symmetric_pairs.fth')"
   ]
  },
  {
   "cell_type": "code",
   "execution_count": null,
   "metadata": {
    "pycharm": {
     "name": "#%%\n"
    }
   },
   "outputs": [],
   "source": [
    "import itertools\n",
    "\n",
    "all_dataset_params = {\n",
    "    'dist_processing': ['log', 'normalised', 'multiclass', 'log', 'binary'],\n",
    "    'sample_method' :['harmonic'],\n",
    "    'filtration' : ['first_md', 'full'],\n",
    "    'asymmetric' : [True, False]\n",
    "}\n",
    "\n",
    "keys, values = zip(*all_dataset_params.items())\n",
    "dataset_params = [dict(zip(keys, v)) for v in itertools.product(*values)]\n",
    "\n",
    "for params in dataset_params:\n",
    "    print(params)\n",
    "    sampler = Sampler(path, sample_size=0.01, **params)\n",
    "    pairs = sampler.sample()"
   ]
  },
  {
   "cell_type": "code",
   "execution_count": null,
   "metadata": {
    "pycharm": {
     "name": "#%%\n"
    }
   },
   "outputs": [],
   "source": [
    "download_dataset_version('2022-06-30', )"
   ]
  },
  {
   "cell_type": "code",
   "execution_count": null,
   "metadata": {
    "pycharm": {
     "name": "#%%\n"
    }
   },
   "outputs": [],
   "source": [
    "path = Path('data/train_dataset.fth')\n",
    "sampler = Sampler(path, asymmetric=False, dist_processing='log', sample_size=0.1)"
   ]
  },
  {
   "cell_type": "code",
   "execution_count": null,
   "metadata": {
    "pycharm": {
     "name": "#%%\n"
    }
   },
   "outputs": [],
   "source": [
    "df = sampler.sample_ranks(1000)"
   ]
  },
  {
   "cell_type": "code",
   "execution_count": null,
   "metadata": {
    "pycharm": {
     "name": "#%%\n"
    }
   },
   "outputs": [],
   "source": [
    "from data_managment import Dataset\n",
    "a = Dataset(Path('../raw_data/train'), n=1000)\n",
    "df = a.prepare_and_save_data()\n",
    "df.head()"
   ]
  },
  {
   "cell_type": "code",
   "execution_count": null,
   "metadata": {
    "pycharm": {
     "name": "#%%\n"
    }
   },
   "outputs": [],
   "source": [
    "df"
   ]
  },
  {
   "cell_type": "code",
   "execution_count": null,
   "metadata": {
    "pycharm": {
     "name": "#%%\n"
    }
   },
   "outputs": [],
   "source": [
    "sampler = MDSampler(df)"
   ]
  },
  {
   "cell_type": "code",
   "execution_count": null,
   "metadata": {
    "pycharm": {
     "name": "#%%\n"
    }
   },
   "outputs": [],
   "source": [
    "features = sampler.sample_ranks()"
   ]
  },
  {
   "cell_type": "code",
   "execution_count": null,
   "metadata": {
    "pycharm": {
     "name": "#%%\n"
    }
   },
   "outputs": [],
   "source": [
    "features"
   ]
  },
  {
   "cell_type": "code",
   "execution_count": null,
   "metadata": {
    "pycharm": {
     "name": "#%%\n"
    }
   },
   "outputs": [],
   "source": [
    "features.reset_index().to_feather(\"data/rank_model/features.fth\")"
   ]
  },
  {
   "cell_type": "code",
   "execution_count": null,
   "metadata": {
    "pycharm": {
     "name": "#%%\n"
    }
   },
   "outputs": [],
   "source": []
  }
 ],
 "metadata": {
  "kernelspec": {
   "display_name": "Python 3 (ipykernel)",
   "language": "python",
   "name": "python3"
  },
  "language_info": {
   "codemirror_mode": {
    "name": "ipython",
    "version": 3
   },
   "file_extension": ".py",
   "mimetype": "text/x-python",
   "name": "python",
   "nbconvert_exporter": "python",
   "pygments_lexer": "ipython3",
   "version": "3.8.13"
  }
 },
 "nbformat": 4,
 "nbformat_minor": 1
}